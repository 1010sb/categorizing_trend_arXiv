{
 "cells": [
  {
   "cell_type": "markdown",
   "id": "1cf3ce38",
   "metadata": {},
   "source": [
    "\n",
    "# Scientific Papers Trend Analysis\n",
    "## arxiv dataset from Cornell University\n"
   ]
  },
  {
   "cell_type": "markdown",
   "id": "c16e98cd",
   "metadata": {},
   "source": [
    "#### Importing required python libraries"
   ]
  },
  {
   "cell_type": "code",
   "execution_count": 1,
   "id": "ba244cd8",
   "metadata": {},
   "outputs": [],
   "source": [
    "import dask.bag as db\n",
    "import datetime\n",
    "import json\n",
    "import pandas as pd\n",
    "import matplotlib.pyplot as plt\n",
    "import seaborn as sns\n",
    "from sklearn.cluster import KMeans\n",
    "from sklearn.preprocessing import LabelEncoder\n",
    "\n"
   ]
  },
  {
   "cell_type": "markdown",
   "id": "17874658",
   "metadata": {},
   "source": [
    "#### Reading json data file and converting to csv file for further processing"
   ]
  },
  {
   "cell_type": "code",
   "execution_count": 2,
   "id": "fee15df5",
   "metadata": {},
   "outputs": [],
   "source": [
    "# JSON file in more than 3 GB here I am using dask.bag to read this big file\n",
    "# dask.bag use parallal processing which make it faster then pandas"
   ]
  },
  {
   "cell_type": "code",
   "execution_count": 3,
   "id": "73e983da",
   "metadata": {},
   "outputs": [],
   "source": [
    "# Load the JSON file\n",
    "docs = db.read_text('arxiv-metadata-oai-snapshot.json').map(json.loads)\n"
   ]
  },
  {
   "cell_type": "code",
   "execution_count": null,
   "id": "33549429",
   "metadata": {},
   "outputs": [],
   "source": []
  },
  {
   "cell_type": "code",
   "execution_count": 4,
   "id": "0f557836",
   "metadata": {},
   "outputs": [
    {
     "data": {
      "text/plain": [
       "2184335"
      ]
     },
     "execution_count": 4,
     "metadata": {},
     "output_type": "execute_result"
    }
   ],
   "source": [
    "#Total number of documents: 2184335\n",
    "docs.count().compute()"
   ]
  },
  {
   "cell_type": "code",
   "execution_count": 5,
   "id": "8c9d698d",
   "metadata": {},
   "outputs": [
    {
     "data": {
      "text/plain": [
       "({'id': '0704.0001',\n",
       "  'submitter': 'Pavel Nadolsky',\n",
       "  'authors': \"C. Bal\\\\'azs, E. L. Berger, P. M. Nadolsky, C.-P. Yuan\",\n",
       "  'title': 'Calculation of prompt diphoton production cross sections at Tevatron and\\n  LHC energies',\n",
       "  'comments': '37 pages, 15 figures; published version',\n",
       "  'journal-ref': 'Phys.Rev.D76:013009,2007',\n",
       "  'doi': '10.1103/PhysRevD.76.013009',\n",
       "  'report-no': 'ANL-HEP-PR-07-12',\n",
       "  'categories': 'hep-ph',\n",
       "  'license': None,\n",
       "  'abstract': '  A fully differential calculation in perturbative quantum chromodynamics is\\npresented for the production of massive photon pairs at hadron colliders. All\\nnext-to-leading order perturbative contributions from quark-antiquark,\\ngluon-(anti)quark, and gluon-gluon subprocesses are included, as well as\\nall-orders resummation of initial-state gluon radiation valid at\\nnext-to-next-to-leading logarithmic accuracy. The region of phase space is\\nspecified in which the calculation is most reliable. Good agreement is\\ndemonstrated with data from the Fermilab Tevatron, and predictions are made for\\nmore detailed tests with CDF and DO data. Predictions are shown for\\ndistributions of diphoton pairs produced at the energy of the Large Hadron\\nCollider (LHC). Distributions of the diphoton pairs from the decay of a Higgs\\nboson are contrasted with those produced from QCD processes at the LHC, showing\\nthat enhanced sensitivity to the signal can be obtained with judicious\\nselection of events.\\n',\n",
       "  'versions': [{'version': 'v1', 'created': 'Mon, 2 Apr 2007 19:18:42 GMT'},\n",
       "   {'version': 'v2', 'created': 'Tue, 24 Jul 2007 20:10:27 GMT'}],\n",
       "  'update_date': '2008-11-26',\n",
       "  'authors_parsed': [['Balázs', 'C.', ''],\n",
       "   ['Berger', 'E. L.', ''],\n",
       "   ['Nadolsky', 'P. M.', ''],\n",
       "   ['Yuan', 'C. -P.', '']]},)"
      ]
     },
     "execution_count": 5,
     "metadata": {},
     "output_type": "execute_result"
    }
   ],
   "source": [
    "# Looking at one document:\n",
    "docs.take(1)"
   ]
  },
  {
   "cell_type": "code",
   "execution_count": null,
   "id": "d68bf456",
   "metadata": {},
   "outputs": [],
   "source": []
  },
  {
   "cell_type": "code",
   "execution_count": 6,
   "id": "764b9fe5",
   "metadata": {},
   "outputs": [],
   "source": [
    "# Extracting year of publication from 'versions'"
   ]
  },
  {
   "cell_type": "code",
   "execution_count": 7,
   "id": "1f58ffe7",
   "metadata": {},
   "outputs": [],
   "source": [
    "get_year = lambda x: x['versions'][-1]['created']\n"
   ]
  },
  {
   "cell_type": "code",
   "execution_count": 8,
   "id": "b1f815a1",
   "metadata": {},
   "outputs": [],
   "source": [
    "# Extracting only the data which is most important for this analysis\n"
   ]
  },
  {
   "cell_type": "code",
   "execution_count": 9,
   "id": "06270d9c",
   "metadata": {},
   "outputs": [],
   "source": [
    "def trim(x):\n",
    "    # Extract the year from the created field\n",
    "    year = int(get_year(x).split(' ')[3])\n",
    "    \n",
    "    # Return a dictionary with the necessary fields\n",
    "    return {'id': x['id'],\n",
    "            'authors': x['authors'],\n",
    "            'title': x['title'],\n",
    "            'category':x['categories'].split(' '),\n",
    "            'year': year}\n"
   ]
  },
  {
   "cell_type": "code",
   "execution_count": 10,
   "id": "ee1b7abb",
   "metadata": {},
   "outputs": [],
   "source": [
    "# Converting data into dataframe"
   ]
  },
  {
   "cell_type": "code",
   "execution_count": 11,
   "id": "e11a998d",
   "metadata": {},
   "outputs": [],
   "source": [
    "columns = ['id', 'authors', 'title', 'category','year']\n",
    "docs_df = (docs.filter(lambda x: int(get_year(x).split(' ')[3])) # if we choose > 2016 then it will show only.\n",
    "           .map(trim).\n",
    "           compute())\n",
    "\n",
    "# Convert to pandas DataFrame\n",
    "docs_df = pd.DataFrame(docs_df, columns=columns)\n"
   ]
  },
  {
   "cell_type": "code",
   "execution_count": 12,
   "id": "3d021ecd",
   "metadata": {},
   "outputs": [],
   "source": [
    "#save all dataset for later use so we can skip the dataset trimming later\n",
    "docs_df.to_csv(\"arxiv_1986_2022.csv\", index=False)"
   ]
  },
  {
   "cell_type": "code",
   "execution_count": 13,
   "id": "fda0a8c0",
   "metadata": {},
   "outputs": [
    {
     "data": {
      "text/html": [
       "<div>\n",
       "<style scoped>\n",
       "    .dataframe tbody tr th:only-of-type {\n",
       "        vertical-align: middle;\n",
       "    }\n",
       "\n",
       "    .dataframe tbody tr th {\n",
       "        vertical-align: top;\n",
       "    }\n",
       "\n",
       "    .dataframe thead th {\n",
       "        text-align: right;\n",
       "    }\n",
       "</style>\n",
       "<table border=\"1\" class=\"dataframe\">\n",
       "  <thead>\n",
       "    <tr style=\"text-align: right;\">\n",
       "      <th></th>\n",
       "      <th>id</th>\n",
       "      <th>authors</th>\n",
       "      <th>title</th>\n",
       "      <th>category</th>\n",
       "      <th>year</th>\n",
       "    </tr>\n",
       "  </thead>\n",
       "  <tbody>\n",
       "    <tr>\n",
       "      <th>0</th>\n",
       "      <td>0704.0001</td>\n",
       "      <td>C. Bal\\'azs, E. L. Berger, P. M. Nadolsky, C.-...</td>\n",
       "      <td>Calculation of prompt diphoton production cros...</td>\n",
       "      <td>[hep-ph]</td>\n",
       "      <td>2007</td>\n",
       "    </tr>\n",
       "    <tr>\n",
       "      <th>1</th>\n",
       "      <td>0704.0002</td>\n",
       "      <td>Ileana Streinu and Louis Theran</td>\n",
       "      <td>Sparsity-certifying Graph Decompositions</td>\n",
       "      <td>[math.CO, cs.CG]</td>\n",
       "      <td>2008</td>\n",
       "    </tr>\n",
       "    <tr>\n",
       "      <th>2</th>\n",
       "      <td>0704.0003</td>\n",
       "      <td>Hongjun Pan</td>\n",
       "      <td>The evolution of the Earth-Moon system based o...</td>\n",
       "      <td>[physics.gen-ph]</td>\n",
       "      <td>2008</td>\n",
       "    </tr>\n",
       "    <tr>\n",
       "      <th>3</th>\n",
       "      <td>0704.0004</td>\n",
       "      <td>David Callan</td>\n",
       "      <td>A determinant of Stirling cycle numbers counts...</td>\n",
       "      <td>[math.CO]</td>\n",
       "      <td>2007</td>\n",
       "    </tr>\n",
       "    <tr>\n",
       "      <th>4</th>\n",
       "      <td>0704.0005</td>\n",
       "      <td>Wael Abu-Shammala and Alberto Torchinsky</td>\n",
       "      <td>From dyadic $\\Lambda_{\\alpha}$ to $\\Lambda_{\\a...</td>\n",
       "      <td>[math.CA, math.FA]</td>\n",
       "      <td>2007</td>\n",
       "    </tr>\n",
       "    <tr>\n",
       "      <th>5</th>\n",
       "      <td>0704.0006</td>\n",
       "      <td>Y. H. Pong and C. K. Law</td>\n",
       "      <td>Bosonic characters of atomic Cooper pairs acro...</td>\n",
       "      <td>[cond-mat.mes-hall]</td>\n",
       "      <td>2007</td>\n",
       "    </tr>\n",
       "    <tr>\n",
       "      <th>6</th>\n",
       "      <td>0704.0007</td>\n",
       "      <td>Alejandro Corichi, Tatjana Vukasinac and Jose ...</td>\n",
       "      <td>Polymer Quantum Mechanics and its Continuum Limit</td>\n",
       "      <td>[gr-qc]</td>\n",
       "      <td>2007</td>\n",
       "    </tr>\n",
       "    <tr>\n",
       "      <th>7</th>\n",
       "      <td>0704.0008</td>\n",
       "      <td>Damian C. Swift</td>\n",
       "      <td>Numerical solution of shock and ramp compressi...</td>\n",
       "      <td>[cond-mat.mtrl-sci]</td>\n",
       "      <td>2008</td>\n",
       "    </tr>\n",
       "    <tr>\n",
       "      <th>8</th>\n",
       "      <td>0704.0009</td>\n",
       "      <td>Paul Harvey, Bruno Merin, Tracy L. Huard, Luis...</td>\n",
       "      <td>The Spitzer c2d Survey of Large, Nearby, Inste...</td>\n",
       "      <td>[astro-ph]</td>\n",
       "      <td>2007</td>\n",
       "    </tr>\n",
       "    <tr>\n",
       "      <th>9</th>\n",
       "      <td>0704.0010</td>\n",
       "      <td>Sergei Ovchinnikov</td>\n",
       "      <td>Partial cubes: structures, characterizations, ...</td>\n",
       "      <td>[math.CO]</td>\n",
       "      <td>2007</td>\n",
       "    </tr>\n",
       "  </tbody>\n",
       "</table>\n",
       "</div>"
      ],
      "text/plain": [
       "          id                                            authors  \\\n",
       "0  0704.0001  C. Bal\\'azs, E. L. Berger, P. M. Nadolsky, C.-...   \n",
       "1  0704.0002                    Ileana Streinu and Louis Theran   \n",
       "2  0704.0003                                        Hongjun Pan   \n",
       "3  0704.0004                                       David Callan   \n",
       "4  0704.0005           Wael Abu-Shammala and Alberto Torchinsky   \n",
       "5  0704.0006                           Y. H. Pong and C. K. Law   \n",
       "6  0704.0007  Alejandro Corichi, Tatjana Vukasinac and Jose ...   \n",
       "7  0704.0008                                    Damian C. Swift   \n",
       "8  0704.0009  Paul Harvey, Bruno Merin, Tracy L. Huard, Luis...   \n",
       "9  0704.0010                                 Sergei Ovchinnikov   \n",
       "\n",
       "                                               title             category  \\\n",
       "0  Calculation of prompt diphoton production cros...             [hep-ph]   \n",
       "1           Sparsity-certifying Graph Decompositions     [math.CO, cs.CG]   \n",
       "2  The evolution of the Earth-Moon system based o...     [physics.gen-ph]   \n",
       "3  A determinant of Stirling cycle numbers counts...            [math.CO]   \n",
       "4  From dyadic $\\Lambda_{\\alpha}$ to $\\Lambda_{\\a...   [math.CA, math.FA]   \n",
       "5  Bosonic characters of atomic Cooper pairs acro...  [cond-mat.mes-hall]   \n",
       "6  Polymer Quantum Mechanics and its Continuum Limit              [gr-qc]   \n",
       "7  Numerical solution of shock and ramp compressi...  [cond-mat.mtrl-sci]   \n",
       "8  The Spitzer c2d Survey of Large, Nearby, Inste...           [astro-ph]   \n",
       "9  Partial cubes: structures, characterizations, ...            [math.CO]   \n",
       "\n",
       "   year  \n",
       "0  2007  \n",
       "1  2008  \n",
       "2  2008  \n",
       "3  2007  \n",
       "4  2007  \n",
       "5  2007  \n",
       "6  2007  \n",
       "7  2008  \n",
       "8  2007  \n",
       "9  2007  "
      ]
     },
     "execution_count": 13,
     "metadata": {},
     "output_type": "execute_result"
    }
   ],
   "source": [
    "# Look at sample of dataframe\n",
    "docs_df.head(10)"
   ]
  },
  {
   "cell_type": "code",
   "execution_count": 14,
   "id": "fa7bc7b4",
   "metadata": {},
   "outputs": [
    {
     "data": {
      "text/plain": [
       "(2184335, 5)"
      ]
     },
     "execution_count": 14,
     "metadata": {},
     "output_type": "execute_result"
    }
   ],
   "source": [
    "docs_df.shape"
   ]
  },
  {
   "cell_type": "markdown",
   "id": "bf4a2cc9",
   "metadata": {},
   "source": [
    "## Further trim data by year 2019 to 2022"
   ]
  },
  {
   "cell_type": "code",
   "execution_count": 28,
   "id": "596696b6",
   "metadata": {},
   "outputs": [],
   "source": [
    "# Read the CSV file\n",
    "df = pd.read_csv('arxiv_1986_2022.csv', low_memory=False)\n",
    "\n",
    "# Filter the data by year\n",
    "filtered_df = df[df['year'] >= 2019]\n",
    "\n",
    "# Write the filtered data to a new CSV file\n",
    "filtered_df.to_csv('arxiv_2019_2022.csv', index=False)"
   ]
  },
  {
   "cell_type": "code",
   "execution_count": 29,
   "id": "b3cf15f2",
   "metadata": {},
   "outputs": [],
   "source": [
    "# Read the CSV file\n",
    "df = pd.read_csv('arxiv_2019_2022.csv', low_memory=False)"
   ]
  },
  {
   "cell_type": "code",
   "execution_count": 30,
   "id": "be7df05b",
   "metadata": {},
   "outputs": [
    {
     "data": {
      "text/html": [
       "<div>\n",
       "<style scoped>\n",
       "    .dataframe tbody tr th:only-of-type {\n",
       "        vertical-align: middle;\n",
       "    }\n",
       "\n",
       "    .dataframe tbody tr th {\n",
       "        vertical-align: top;\n",
       "    }\n",
       "\n",
       "    .dataframe thead th {\n",
       "        text-align: right;\n",
       "    }\n",
       "</style>\n",
       "<table border=\"1\" class=\"dataframe\">\n",
       "  <thead>\n",
       "    <tr style=\"text-align: right;\">\n",
       "      <th></th>\n",
       "      <th>id</th>\n",
       "      <th>authors</th>\n",
       "      <th>title</th>\n",
       "      <th>category</th>\n",
       "      <th>year</th>\n",
       "    </tr>\n",
       "  </thead>\n",
       "  <tbody>\n",
       "    <tr>\n",
       "      <th>0</th>\n",
       "      <td>0704.0033</td>\n",
       "      <td>Maxim A. Yurkin, Valeri P. Maltsev, Alfons G. ...</td>\n",
       "      <td>Convergence of the discrete dipole approximati...</td>\n",
       "      <td>['physics.optics', 'physics.comp-ph']</td>\n",
       "      <td>2022</td>\n",
       "    </tr>\n",
       "    <tr>\n",
       "      <th>1</th>\n",
       "      <td>0704.0038</td>\n",
       "      <td>Maxim A. Yurkin, Alfons G. Hoekstra</td>\n",
       "      <td>The discrete dipole approximation: an overview...</td>\n",
       "      <td>['physics.optics', 'physics.comp-ph']</td>\n",
       "      <td>2022</td>\n",
       "    </tr>\n",
       "    <tr>\n",
       "      <th>2</th>\n",
       "      <td>0704.0479</td>\n",
       "      <td>T.Geisser</td>\n",
       "      <td>The affine part of the Picard scheme</td>\n",
       "      <td>['math.AG', 'math.KT']</td>\n",
       "      <td>2021</td>\n",
       "    </tr>\n",
       "    <tr>\n",
       "      <th>3</th>\n",
       "      <td>0704.1445</td>\n",
       "      <td>Yasha Gindikin and Vladimir A. Sablikov</td>\n",
       "      <td>Deformed Wigner crystal in a one-dimensional q...</td>\n",
       "      <td>['cond-mat.str-el', 'cond-mat.mes-hall']</td>\n",
       "      <td>2019</td>\n",
       "    </tr>\n",
       "    <tr>\n",
       "      <th>4</th>\n",
       "      <td>0704.1476</td>\n",
       "      <td>Chris Austin</td>\n",
       "      <td>TeV-scale gravity in Horava-Witten theory on a...</td>\n",
       "      <td>['hep-th']</td>\n",
       "      <td>2022</td>\n",
       "    </tr>\n",
       "  </tbody>\n",
       "</table>\n",
       "</div>"
      ],
      "text/plain": [
       "          id                                            authors  \\\n",
       "0  0704.0033  Maxim A. Yurkin, Valeri P. Maltsev, Alfons G. ...   \n",
       "1  0704.0038                Maxim A. Yurkin, Alfons G. Hoekstra   \n",
       "2  0704.0479                                          T.Geisser   \n",
       "3  0704.1445            Yasha Gindikin and Vladimir A. Sablikov   \n",
       "4  0704.1476                                       Chris Austin   \n",
       "\n",
       "                                               title  \\\n",
       "0  Convergence of the discrete dipole approximati...   \n",
       "1  The discrete dipole approximation: an overview...   \n",
       "2               The affine part of the Picard scheme   \n",
       "3  Deformed Wigner crystal in a one-dimensional q...   \n",
       "4  TeV-scale gravity in Horava-Witten theory on a...   \n",
       "\n",
       "                                   category  year  \n",
       "0     ['physics.optics', 'physics.comp-ph']  2022  \n",
       "1     ['physics.optics', 'physics.comp-ph']  2022  \n",
       "2                    ['math.AG', 'math.KT']  2021  \n",
       "3  ['cond-mat.str-el', 'cond-mat.mes-hall']  2019  \n",
       "4                                ['hep-th']  2022  "
      ]
     },
     "execution_count": 30,
     "metadata": {},
     "output_type": "execute_result"
    }
   ],
   "source": [
    "df.head()"
   ]
  },
  {
   "cell_type": "code",
   "execution_count": 31,
   "id": "175a5c5a",
   "metadata": {},
   "outputs": [
    {
     "data": {
      "text/plain": [
       "(749279, 5)"
      ]
     },
     "execution_count": 31,
     "metadata": {},
     "output_type": "execute_result"
    }
   ],
   "source": [
    "df.shape"
   ]
  },
  {
   "cell_type": "code",
   "execution_count": 38,
   "id": "1c754a26",
   "metadata": {},
   "outputs": [],
   "source": [
    "\n",
    "\n",
    "# Filter the data by year\n",
    "filtered_df = df_2022[df_2022['year'] >= 2022]\n",
    "\n",
    "# Write the filtered data to a new CSV file\n",
    "filtered_df.to_csv('arxiv_2022.csv', index=False)"
   ]
  },
  {
   "cell_type": "code",
   "execution_count": 39,
   "id": "3fc726b9",
   "metadata": {},
   "outputs": [
    {
     "data": {
      "text/html": [
       "<div>\n",
       "<style scoped>\n",
       "    .dataframe tbody tr th:only-of-type {\n",
       "        vertical-align: middle;\n",
       "    }\n",
       "\n",
       "    .dataframe tbody tr th {\n",
       "        vertical-align: top;\n",
       "    }\n",
       "\n",
       "    .dataframe thead th {\n",
       "        text-align: right;\n",
       "    }\n",
       "</style>\n",
       "<table border=\"1\" class=\"dataframe\">\n",
       "  <thead>\n",
       "    <tr style=\"text-align: right;\">\n",
       "      <th></th>\n",
       "      <th>id</th>\n",
       "      <th>authors</th>\n",
       "      <th>title</th>\n",
       "      <th>category</th>\n",
       "      <th>year</th>\n",
       "    </tr>\n",
       "  </thead>\n",
       "  <tbody>\n",
       "    <tr>\n",
       "      <th>0</th>\n",
       "      <td>0704.0033</td>\n",
       "      <td>Maxim A. Yurkin, Valeri P. Maltsev, Alfons G. ...</td>\n",
       "      <td>Convergence of the discrete dipole approximati...</td>\n",
       "      <td>['physics.optics', 'physics.comp-ph']</td>\n",
       "      <td>2022</td>\n",
       "    </tr>\n",
       "    <tr>\n",
       "      <th>1</th>\n",
       "      <td>0704.0038</td>\n",
       "      <td>Maxim A. Yurkin, Alfons G. Hoekstra</td>\n",
       "      <td>The discrete dipole approximation: an overview...</td>\n",
       "      <td>['physics.optics', 'physics.comp-ph']</td>\n",
       "      <td>2022</td>\n",
       "    </tr>\n",
       "    <tr>\n",
       "      <th>2</th>\n",
       "      <td>0704.1476</td>\n",
       "      <td>Chris Austin</td>\n",
       "      <td>TeV-scale gravity in Horava-Witten theory on a...</td>\n",
       "      <td>['hep-th']</td>\n",
       "      <td>2022</td>\n",
       "    </tr>\n",
       "    <tr>\n",
       "      <th>3</th>\n",
       "      <td>0705.1155</td>\n",
       "      <td>Kerry M. Soileau</td>\n",
       "      <td>State Vector Determination By A Single Trackin...</td>\n",
       "      <td>['astro-ph']</td>\n",
       "      <td>2022</td>\n",
       "    </tr>\n",
       "    <tr>\n",
       "      <th>4</th>\n",
       "      <td>0705.3841</td>\n",
       "      <td>Michael Andreas Schmidt</td>\n",
       "      <td>Renormalization Group Evolution in the type I ...</td>\n",
       "      <td>['hep-ph']</td>\n",
       "      <td>2022</td>\n",
       "    </tr>\n",
       "  </tbody>\n",
       "</table>\n",
       "</div>"
      ],
      "text/plain": [
       "          id                                            authors  \\\n",
       "0  0704.0033  Maxim A. Yurkin, Valeri P. Maltsev, Alfons G. ...   \n",
       "1  0704.0038                Maxim A. Yurkin, Alfons G. Hoekstra   \n",
       "2  0704.1476                                       Chris Austin   \n",
       "3  0705.1155                                   Kerry M. Soileau   \n",
       "4  0705.3841                            Michael Andreas Schmidt   \n",
       "\n",
       "                                               title  \\\n",
       "0  Convergence of the discrete dipole approximati...   \n",
       "1  The discrete dipole approximation: an overview...   \n",
       "2  TeV-scale gravity in Horava-Witten theory on a...   \n",
       "3  State Vector Determination By A Single Trackin...   \n",
       "4  Renormalization Group Evolution in the type I ...   \n",
       "\n",
       "                                category  year  \n",
       "0  ['physics.optics', 'physics.comp-ph']  2022  \n",
       "1  ['physics.optics', 'physics.comp-ph']  2022  \n",
       "2                             ['hep-th']  2022  \n",
       "3                           ['astro-ph']  2022  \n",
       "4                             ['hep-ph']  2022  "
      ]
     },
     "execution_count": 39,
     "metadata": {},
     "output_type": "execute_result"
    }
   ],
   "source": [
    "# Read the CSV file\n",
    "df_2022 = pd.read_csv('arxiv_2022.csv', low_memory=False)\n",
    "df_2022.head()"
   ]
  },
  {
   "cell_type": "code",
   "execution_count": 40,
   "id": "43dd3c72",
   "metadata": {},
   "outputs": [
    {
     "data": {
      "text/plain": [
       "(231875, 5)"
      ]
     },
     "execution_count": 40,
     "metadata": {},
     "output_type": "execute_result"
    }
   ],
   "source": [
    "df_2022.shape"
   ]
  },
  {
   "cell_type": "code",
   "execution_count": 19,
   "id": "f4b92709",
   "metadata": {},
   "outputs": [],
   "source": [
    "#save trimmed dataset for later use so we can skip the dataset trimming later:\n",
    "# docs_df.to_csv(\"arxiv_from_2017.csv\", index=False)"
   ]
  },
  {
   "cell_type": "code",
   "execution_count": 21,
   "id": "95555396",
   "metadata": {},
   "outputs": [
    {
     "name": "stdout",
     "output_type": "stream",
     "text": [
      "1986 1\n",
      "1988 1\n",
      "1989 5\n",
      "1990 24\n",
      "1991 340\n",
      "1992 3093\n",
      "1993 6506\n",
      "1994 9733\n",
      "1995 12566\n",
      "1996 15282\n",
      "1997 18957\n",
      "1998 23265\n",
      "1999 26866\n",
      "2000 29936\n",
      "2001 32178\n",
      "2002 34798\n",
      "2003 38224\n",
      "2004 42098\n",
      "2005 45389\n",
      "2006 48558\n",
      "2007 54125\n",
      "2008 56939\n",
      "2009 62214\n",
      "2010 67452\n",
      "2011 73406\n",
      "2012 81412\n",
      "2013 89704\n",
      "2014 94332\n",
      "2015 101642\n",
      "2016 110751\n",
      "2017 119762\n",
      "2018 135497\n",
      "2019 150844\n",
      "2020 175642\n",
      "2021 190918\n",
      "2022 231875\n"
     ]
    }
   ],
   "source": [
    "# Group the data by year and count the number of records in each year\n",
    "year_counts = docs_df.groupby('year').size()\n",
    "\n",
    "# Print the year and count for each group\n",
    "for year, count in year_counts.items():\n",
    "    print(year, count)\n"
   ]
  },
  {
   "cell_type": "code",
   "execution_count": null,
   "id": "3cd75e76",
   "metadata": {},
   "outputs": [],
   "source": []
  },
  {
   "cell_type": "code",
   "execution_count": 55,
   "id": "28b394af",
   "metadata": {},
   "outputs": [
    {
     "data": {
      "image/png": "[encoded data removed]",
      "text/plain": [
       "<Figure size 640x480 with 1 Axes>"
      ]
     },
     "metadata": {},
     "output_type": "display_data"
    }
   ],
   "source": [
    "# Let us check how the research papers are evolving over time from 1985 to 2022\n",
    "# Create a countplot of the year column\n",
    "sns.countplot(x='year', data=docs_df)\n",
    "\n",
    "# Add labels and show the plot\n",
    "plt.xlabel('Publication Year')\n",
    "plt.ylabel('Papers Count')\n",
    "plt.title('From 1986 to 2022', fontsize=12)\n",
    "plt.suptitle('Trend in Science Publications by Year', fontsize=16)\n",
    "plt.xticks(rotation=90)\n",
    "plt.savefig('trend_by_year.jpg',dpi=200,bbox_inches='tight')\n",
    "plt.show()\n",
    "\n"
   ]
  },
  {
   "cell_type": "code",
   "execution_count": 62,
   "id": "ede2b4e6",
   "metadata": {},
   "outputs": [
    {
     "data": {
      "text/html": [
       "<div>\n",
       "<style scoped>\n",
       "    .dataframe tbody tr th:only-of-type {\n",
       "        vertical-align: middle;\n",
       "    }\n",
       "\n",
       "    .dataframe tbody tr th {\n",
       "        vertical-align: top;\n",
       "    }\n",
       "\n",
       "    .dataframe thead th {\n",
       "        text-align: right;\n",
       "    }\n",
       "</style>\n",
       "<table border=\"1\" class=\"dataframe\">\n",
       "  <thead>\n",
       "    <tr style=\"text-align: right;\">\n",
       "      <th></th>\n",
       "      <th>id</th>\n",
       "      <th>authors</th>\n",
       "      <th>category</th>\n",
       "      <th>year</th>\n",
       "    </tr>\n",
       "  </thead>\n",
       "  <tbody>\n",
       "    <tr>\n",
       "      <th>1936944</th>\n",
       "      <td>cs/9301111</td>\n",
       "      <td>Donald E. Knuth</td>\n",
       "      <td>[cs.CC]</td>\n",
       "      <td>1990</td>\n",
       "    </tr>\n",
       "    <tr>\n",
       "      <th>1936945</th>\n",
       "      <td>cs/9301112</td>\n",
       "      <td>Donald E. Knuth</td>\n",
       "      <td>[cs.GR]</td>\n",
       "      <td>1990</td>\n",
       "    </tr>\n",
       "    <tr>\n",
       "      <th>2046889</th>\n",
       "      <td>hep-th/9108028</td>\n",
       "      <td>Paul Ginsparg</td>\n",
       "      <td>[hep-th]</td>\n",
       "      <td>1988</td>\n",
       "    </tr>\n",
       "    <tr>\n",
       "      <th>2115403</th>\n",
       "      <td>math/9201203</td>\n",
       "      <td>Keith Ball (Texas A&amp;M University) and Alain Pa...</td>\n",
       "      <td>[math.MG, math.FA]</td>\n",
       "      <td>1989</td>\n",
       "    </tr>\n",
       "    <tr>\n",
       "      <th>2115404</th>\n",
       "      <td>math/9201204</td>\n",
       "      <td>Keith Ball</td>\n",
       "      <td>[math.MG, math.FA]</td>\n",
       "      <td>1989</td>\n",
       "    </tr>\n",
       "    <tr>\n",
       "      <th>2115405</th>\n",
       "      <td>math/9201205</td>\n",
       "      <td>Keith Ball</td>\n",
       "      <td>[math.MG, math.FA]</td>\n",
       "      <td>1989</td>\n",
       "    </tr>\n",
       "    <tr>\n",
       "      <th>2115406</th>\n",
       "      <td>math/9201206</td>\n",
       "      <td>Gideon Schechtman and Joel Zinn</td>\n",
       "      <td>[math.FA, math.MG]</td>\n",
       "      <td>1989</td>\n",
       "    </tr>\n",
       "    <tr>\n",
       "      <th>2115408</th>\n",
       "      <td>math/9201208</td>\n",
       "      <td>William B. Johnson and Gideon Schechtman</td>\n",
       "      <td>[math.PR, math.FA]</td>\n",
       "      <td>1990</td>\n",
       "    </tr>\n",
       "    <tr>\n",
       "      <th>2115409</th>\n",
       "      <td>math/9201209</td>\n",
       "      <td>Nassif Ghoussoub and William B. Johnson</td>\n",
       "      <td>[math.FA]</td>\n",
       "      <td>1990</td>\n",
       "    </tr>\n",
       "    <tr>\n",
       "      <th>2115410</th>\n",
       "      <td>math/9201210</td>\n",
       "      <td>Paulette Saab</td>\n",
       "      <td>[math.FA]</td>\n",
       "      <td>1990</td>\n",
       "    </tr>\n",
       "  </tbody>\n",
       "</table>\n",
       "</div>"
      ],
      "text/plain": [
       "                     id                                            authors  \\\n",
       "1936944      cs/9301111                                    Donald E. Knuth   \n",
       "1936945      cs/9301112                                    Donald E. Knuth   \n",
       "2046889  hep-th/9108028                                      Paul Ginsparg   \n",
       "2115403    math/9201203  Keith Ball (Texas A&M University) and Alain Pa...   \n",
       "2115404    math/9201204                                         Keith Ball   \n",
       "2115405    math/9201205                                         Keith Ball   \n",
       "2115406    math/9201206                    Gideon Schechtman and Joel Zinn   \n",
       "2115408    math/9201208           William B. Johnson and Gideon Schechtman   \n",
       "2115409    math/9201209            Nassif Ghoussoub and William B. Johnson   \n",
       "2115410    math/9201210                                      Paulette Saab   \n",
       "\n",
       "                   category  year  \n",
       "1936944             [cs.CC]  1990  \n",
       "1936945             [cs.GR]  1990  \n",
       "2046889            [hep-th]  1988  \n",
       "2115403  [math.MG, math.FA]  1989  \n",
       "2115404  [math.MG, math.FA]  1989  \n",
       "2115405  [math.MG, math.FA]  1989  \n",
       "2115406  [math.FA, math.MG]  1989  \n",
       "2115408  [math.PR, math.FA]  1990  \n",
       "2115409           [math.FA]  1990  \n",
       "2115410           [math.FA]  1990  "
      ]
     },
     "execution_count": 62,
     "metadata": {},
     "output_type": "execute_result"
    }
   ],
   "source": [
    "# view the data before 1991 \n",
    "docs_df[docs_df['year'] < 1991].head(10)"
   ]
  },
  {
   "cell_type": "code",
   "execution_count": 63,
   "id": "d8aecca5",
   "metadata": {},
   "outputs": [
    {
     "data": {
      "text/html": [
       "<div>\n",
       "<style scoped>\n",
       "    .dataframe tbody tr th:only-of-type {\n",
       "        vertical-align: middle;\n",
       "    }\n",
       "\n",
       "    .dataframe tbody tr th {\n",
       "        vertical-align: top;\n",
       "    }\n",
       "\n",
       "    .dataframe thead th {\n",
       "        text-align: right;\n",
       "    }\n",
       "</style>\n",
       "<table border=\"1\" class=\"dataframe\">\n",
       "  <thead>\n",
       "    <tr style=\"text-align: right;\">\n",
       "      <th></th>\n",
       "      <th>id</th>\n",
       "      <th>authors</th>\n",
       "      <th>category</th>\n",
       "      <th>year</th>\n",
       "    </tr>\n",
       "  </thead>\n",
       "  <tbody>\n",
       "    <tr>\n",
       "      <th>32</th>\n",
       "      <td>0704.0033</td>\n",
       "      <td>Maxim A. Yurkin, Valeri P. Maltsev, Alfons G. ...</td>\n",
       "      <td>[physics.optics, physics.comp-ph]</td>\n",
       "      <td>2022</td>\n",
       "    </tr>\n",
       "    <tr>\n",
       "      <th>37</th>\n",
       "      <td>0704.0038</td>\n",
       "      <td>Maxim A. Yurkin, Alfons G. Hoekstra</td>\n",
       "      <td>[physics.optics, physics.comp-ph]</td>\n",
       "      <td>2022</td>\n",
       "    </tr>\n",
       "    <tr>\n",
       "      <th>1475</th>\n",
       "      <td>0704.1476</td>\n",
       "      <td>Chris Austin</td>\n",
       "      <td>[hep-th]</td>\n",
       "      <td>2022</td>\n",
       "    </tr>\n",
       "    <tr>\n",
       "      <th>5157</th>\n",
       "      <td>0705.1155</td>\n",
       "      <td>Kerry M. Soileau</td>\n",
       "      <td>[astro-ph]</td>\n",
       "      <td>2022</td>\n",
       "    </tr>\n",
       "    <tr>\n",
       "      <th>7843</th>\n",
       "      <td>0705.3841</td>\n",
       "      <td>Michael Andreas Schmidt</td>\n",
       "      <td>[hep-ph]</td>\n",
       "      <td>2022</td>\n",
       "    </tr>\n",
       "    <tr>\n",
       "      <th>9824</th>\n",
       "      <td>0706.1138</td>\n",
       "      <td>Susumu Oda</td>\n",
       "      <td>[math.AC, math.AG]</td>\n",
       "      <td>2022</td>\n",
       "    </tr>\n",
       "    <tr>\n",
       "      <th>11723</th>\n",
       "      <td>0706.3037</td>\n",
       "      <td>Kerry Michael Soileau</td>\n",
       "      <td>[math.GM]</td>\n",
       "      <td>2022</td>\n",
       "    </tr>\n",
       "    <tr>\n",
       "      <th>11968</th>\n",
       "      <td>0706.3282</td>\n",
       "      <td>Tao Zhang</td>\n",
       "      <td>[math.QA, math.RA]</td>\n",
       "      <td>2022</td>\n",
       "    </tr>\n",
       "    <tr>\n",
       "      <th>12650</th>\n",
       "      <td>0706.3964</td>\n",
       "      <td>Anna Felikson, Pavel Tumarkin</td>\n",
       "      <td>[math.MG, math.CO, math.GR]</td>\n",
       "      <td>2022</td>\n",
       "    </tr>\n",
       "    <tr>\n",
       "      <th>12851</th>\n",
       "      <td>0706.4165</td>\n",
       "      <td>A. Ali, A.V. Borisov, D.V. Zhuridov</td>\n",
       "      <td>[hep-ph, hep-ex, nucl-th]</td>\n",
       "      <td>2022</td>\n",
       "    </tr>\n",
       "  </tbody>\n",
       "</table>\n",
       "</div>"
      ],
      "text/plain": [
       "              id                                            authors  \\\n",
       "32     0704.0033  Maxim A. Yurkin, Valeri P. Maltsev, Alfons G. ...   \n",
       "37     0704.0038                Maxim A. Yurkin, Alfons G. Hoekstra   \n",
       "1475   0704.1476                                       Chris Austin   \n",
       "5157   0705.1155                                   Kerry M. Soileau   \n",
       "7843   0705.3841                            Michael Andreas Schmidt   \n",
       "9824   0706.1138                                         Susumu Oda   \n",
       "11723  0706.3037                              Kerry Michael Soileau   \n",
       "11968  0706.3282                                          Tao Zhang   \n",
       "12650  0706.3964                      Anna Felikson, Pavel Tumarkin   \n",
       "12851  0706.4165                A. Ali, A.V. Borisov, D.V. Zhuridov   \n",
       "\n",
       "                                category  year  \n",
       "32     [physics.optics, physics.comp-ph]  2022  \n",
       "37     [physics.optics, physics.comp-ph]  2022  \n",
       "1475                            [hep-th]  2022  \n",
       "5157                          [astro-ph]  2022  \n",
       "7843                            [hep-ph]  2022  \n",
       "9824                  [math.AC, math.AG]  2022  \n",
       "11723                          [math.GM]  2022  \n",
       "11968                 [math.QA, math.RA]  2022  \n",
       "12650        [math.MG, math.CO, math.GR]  2022  \n",
       "12851          [hep-ph, hep-ex, nucl-th]  2022  "
      ]
     },
     "execution_count": 63,
     "metadata": {},
     "output_type": "execute_result"
    }
   ],
   "source": [
    "# view the data in year 2022\n",
    "docs_df[docs_df['year'] == 2022].head(10)\n"
   ]
  },
  {
   "cell_type": "code",
   "execution_count": 69,
   "id": "842e0ff9",
   "metadata": {},
   "outputs": [
    {
     "data": {
      "image/png": "[encoded data removed]",
      "text/plain": [
       "<Figure size 640x480 with 1 Axes>"
      ]
     },
     "metadata": {},
     "output_type": "display_data"
    }
   ],
   "source": [
    "# Group the data by the 'authors' column and count the number of papers for each author\n",
    "author_counts = docs_df.groupby('authors')['id'].count().sort_values(ascending=False)\n",
    "\n",
    "# Take the top 20 authors with the most papers\n",
    "top_authors = author_counts.head(20)\n",
    "\n",
    "# Plot the results using a bar chart\n",
    "top_authors.plot(kind='bar', xlabel='Authors', ylabel='Number of Papers')\n",
    "plt.show()\n"
   ]
  },
  {
   "cell_type": "code",
   "execution_count": null,
   "id": "935f3b73",
   "metadata": {},
   "outputs": [],
   "source": [
    "author_counts = docs_df.groupby(['year','authors'])['id'].count().sort_values(ascending=False)\n",
    "author_counts.unstack().plot(kind='bar',stacked=True)\n"
   ]
  },
  {
   "cell_type": "code",
   "execution_count": null,
   "id": "631a4876",
   "metadata": {},
   "outputs": [],
   "source": [
    "author_counts = docs_df.pivot_table(values='id', index='year', columns='authors', aggfunc='count')\n",
    "sns.heatmap(author_counts, cmap='Blues')\n"
   ]
  },
  {
   "cell_type": "code",
   "execution_count": null,
   "id": "05fb69a3",
   "metadata": {},
   "outputs": [],
   "source": []
  },
  {
   "cell_type": "code",
   "execution_count": null,
   "id": "0960dd61",
   "metadata": {},
   "outputs": [],
   "source": []
  },
  {
   "cell_type": "code",
   "execution_count": 67,
   "id": "fb69decf",
   "metadata": {},
   "outputs": [],
   "source": [
    "# Converting column 'category' from list to string values.\n",
    "# Encoders require their input to be uniformly strings or numbers. Not list.\n",
    "docs_df['category'] = docs_df['category'].apply(lambda x: ' '.join(x))\n"
   ]
  },
  {
   "cell_type": "code",
   "execution_count": null,
   "id": "92b5e47a",
   "metadata": {},
   "outputs": [],
   "source": [
    "from sklearn.preprocessing import OneHotEncoder\n",
    "\n",
    "# Perform one-hot encoding\n",
    "ohe = OneHotEncoder()\n",
    "category_encoded = ohe.fit_transform(docs_df[['category']])\n",
    "\n",
    "for n_clusters in range(2, 11):\n",
    "    kmeans = KMeans(n_clusters=n_clusters)\n",
    "    preds = kmeans.fit_predict(category_encoded)\n",
    "    score = silhouette_score(category_encoded, preds, metric='euclidean')\n",
    "    print(\"For n_clusters = {}, silhouette score is {})\".format(n_clusters, score))\n"
   ]
  },
  {
   "cell_type": "code",
   "execution_count": 68,
   "id": "b02767de",
   "metadata": {},
   "outputs": [
    {
     "ename": "KeyError",
     "evalue": "\"['category_encoded'] not in index\"",
     "output_type": "error",
     "traceback": [
      "\u001b[1;31m---------------------------------------------------------------------------\u001b[0m",
      "\u001b[1;31mKeyError\u001b[0m                                  Traceback (most recent call last)",
      "\u001b[1;32m~\\AppData\\Local\\Temp\\ipykernel_3216\\3965182135.py\u001b[0m in \u001b[0;36m<module>\u001b[1;34m\u001b[0m\n\u001b[0;32m     12\u001b[0m \u001b[1;33m\u001b[0m\u001b[0m\n\u001b[0;32m     13\u001b[0m \u001b[1;31m# view the cluster labels\u001b[0m\u001b[1;33m\u001b[0m\u001b[1;33m\u001b[0m\u001b[0m\n\u001b[1;32m---> 14\u001b[1;33m \u001b[0mprint\u001b[0m\u001b[1;33m(\u001b[0m\u001b[0mdocs_df\u001b[0m\u001b[1;33m[\u001b[0m\u001b[1;33m[\u001b[0m\u001b[1;34m'category'\u001b[0m\u001b[1;33m,\u001b[0m\u001b[1;34m'category_encoded'\u001b[0m\u001b[1;33m,\u001b[0m\u001b[1;34m'cluster_labels'\u001b[0m\u001b[1;33m]\u001b[0m\u001b[1;33m]\u001b[0m\u001b[1;33m)\u001b[0m\u001b[1;33m\u001b[0m\u001b[1;33m\u001b[0m\u001b[0m\n\u001b[0m",
      "\u001b[1;32m~\\Anaconda3\\lib\\site-packages\\pandas\\core\\frame.py\u001b[0m in \u001b[0;36m__getitem__\u001b[1;34m(self, key)\u001b[0m\n\u001b[0;32m   3509\u001b[0m             \u001b[1;32mif\u001b[0m \u001b[0mis_iterator\u001b[0m\u001b[1;33m(\u001b[0m\u001b[0mkey\u001b[0m\u001b[1;33m)\u001b[0m\u001b[1;33m:\u001b[0m\u001b[1;33m\u001b[0m\u001b[1;33m\u001b[0m\u001b[0m\n\u001b[0;32m   3510\u001b[0m                 \u001b[0mkey\u001b[0m \u001b[1;33m=\u001b[0m \u001b[0mlist\u001b[0m\u001b[1;33m(\u001b[0m\u001b[0mkey\u001b[0m\u001b[1;33m)\u001b[0m\u001b[1;33m\u001b[0m\u001b[1;33m\u001b[0m\u001b[0m\n\u001b[1;32m-> 3511\u001b[1;33m             \u001b[0mindexer\u001b[0m \u001b[1;33m=\u001b[0m \u001b[0mself\u001b[0m\u001b[1;33m.\u001b[0m\u001b[0mcolumns\u001b[0m\u001b[1;33m.\u001b[0m\u001b[0m_get_indexer_strict\u001b[0m\u001b[1;33m(\u001b[0m\u001b[0mkey\u001b[0m\u001b[1;33m,\u001b[0m \u001b[1;34m\"columns\"\u001b[0m\u001b[1;33m)\u001b[0m\u001b[1;33m[\u001b[0m\u001b[1;36m1\u001b[0m\u001b[1;33m]\u001b[0m\u001b[1;33m\u001b[0m\u001b[1;33m\u001b[0m\u001b[0m\n\u001b[0m\u001b[0;32m   3512\u001b[0m \u001b[1;33m\u001b[0m\u001b[0m\n\u001b[0;32m   3513\u001b[0m         \u001b[1;31m# take() does not accept boolean indexers\u001b[0m\u001b[1;33m\u001b[0m\u001b[1;33m\u001b[0m\u001b[0m\n",
      "\u001b[1;32m~\\Anaconda3\\lib\\site-packages\\pandas\\core\\indexes\\base.py\u001b[0m in \u001b[0;36m_get_indexer_strict\u001b[1;34m(self, key, axis_name)\u001b[0m\n\u001b[0;32m   5794\u001b[0m             \u001b[0mkeyarr\u001b[0m\u001b[1;33m,\u001b[0m \u001b[0mindexer\u001b[0m\u001b[1;33m,\u001b[0m \u001b[0mnew_indexer\u001b[0m \u001b[1;33m=\u001b[0m \u001b[0mself\u001b[0m\u001b[1;33m.\u001b[0m\u001b[0m_reindex_non_unique\u001b[0m\u001b[1;33m(\u001b[0m\u001b[0mkeyarr\u001b[0m\u001b[1;33m)\u001b[0m\u001b[1;33m\u001b[0m\u001b[1;33m\u001b[0m\u001b[0m\n\u001b[0;32m   5795\u001b[0m \u001b[1;33m\u001b[0m\u001b[0m\n\u001b[1;32m-> 5796\u001b[1;33m         \u001b[0mself\u001b[0m\u001b[1;33m.\u001b[0m\u001b[0m_raise_if_missing\u001b[0m\u001b[1;33m(\u001b[0m\u001b[0mkeyarr\u001b[0m\u001b[1;33m,\u001b[0m \u001b[0mindexer\u001b[0m\u001b[1;33m,\u001b[0m \u001b[0maxis_name\u001b[0m\u001b[1;33m)\u001b[0m\u001b[1;33m\u001b[0m\u001b[1;33m\u001b[0m\u001b[0m\n\u001b[0m\u001b[0;32m   5797\u001b[0m \u001b[1;33m\u001b[0m\u001b[0m\n\u001b[0;32m   5798\u001b[0m         \u001b[0mkeyarr\u001b[0m \u001b[1;33m=\u001b[0m \u001b[0mself\u001b[0m\u001b[1;33m.\u001b[0m\u001b[0mtake\u001b[0m\u001b[1;33m(\u001b[0m\u001b[0mindexer\u001b[0m\u001b[1;33m)\u001b[0m\u001b[1;33m\u001b[0m\u001b[1;33m\u001b[0m\u001b[0m\n",
      "\u001b[1;32m~\\Anaconda3\\lib\\site-packages\\pandas\\core\\indexes\\base.py\u001b[0m in \u001b[0;36m_raise_if_missing\u001b[1;34m(self, key, indexer, axis_name)\u001b[0m\n\u001b[0;32m   5857\u001b[0m \u001b[1;33m\u001b[0m\u001b[0m\n\u001b[0;32m   5858\u001b[0m             \u001b[0mnot_found\u001b[0m \u001b[1;33m=\u001b[0m \u001b[0mlist\u001b[0m\u001b[1;33m(\u001b[0m\u001b[0mensure_index\u001b[0m\u001b[1;33m(\u001b[0m\u001b[0mkey\u001b[0m\u001b[1;33m)\u001b[0m\u001b[1;33m[\u001b[0m\u001b[0mmissing_mask\u001b[0m\u001b[1;33m.\u001b[0m\u001b[0mnonzero\u001b[0m\u001b[1;33m(\u001b[0m\u001b[1;33m)\u001b[0m\u001b[1;33m[\u001b[0m\u001b[1;36m0\u001b[0m\u001b[1;33m]\u001b[0m\u001b[1;33m]\u001b[0m\u001b[1;33m.\u001b[0m\u001b[0munique\u001b[0m\u001b[1;33m(\u001b[0m\u001b[1;33m)\u001b[0m\u001b[1;33m)\u001b[0m\u001b[1;33m\u001b[0m\u001b[1;33m\u001b[0m\u001b[0m\n\u001b[1;32m-> 5859\u001b[1;33m             \u001b[1;32mraise\u001b[0m \u001b[0mKeyError\u001b[0m\u001b[1;33m(\u001b[0m\u001b[1;34mf\"{not_found} not in index\"\u001b[0m\u001b[1;33m)\u001b[0m\u001b[1;33m\u001b[0m\u001b[1;33m\u001b[0m\u001b[0m\n\u001b[0m\u001b[0;32m   5860\u001b[0m \u001b[1;33m\u001b[0m\u001b[0m\n\u001b[0;32m   5861\u001b[0m     \u001b[1;33m@\u001b[0m\u001b[0moverload\u001b[0m\u001b[1;33m\u001b[0m\u001b[1;33m\u001b[0m\u001b[0m\n",
      "\u001b[1;31mKeyError\u001b[0m: \"['category_encoded'] not in index\""
     ]
    }
   ],
   "source": [
    "from sklearn.preprocessing import OneHotEncoder\n",
    "\n",
    "# Perform one-hot encoding\n",
    "ohe = OneHotEncoder()\n",
    "category_encoded = ohe.fit_transform(docs_df[['category']])\n",
    "\n",
    "# Perform k-means clustering\n",
    "kmeans = KMeans(n_clusters=3)\n",
    "kmeans.fit(category_encoded)\n",
    "docs_df['cluster_labels'] = kmeans.labels_\n",
    "\n",
    "\n",
    "# view the cluster labels\n",
    "print(docs_df[['category','category_encoded','cluster_labels']])\n"
   ]
  },
  {
   "cell_type": "code",
   "execution_count": null,
   "id": "157b53ba",
   "metadata": {},
   "outputs": [],
   "source": []
  }
 ],
 "metadata": {
  "kernelspec": {
   "display_name": "Python 3 (ipykernel)",
   "language": "python",
   "name": "python3"
  },
  "language_info": {
   "codemirror_mode": {
    "name": "ipython",
    "version": 3
   },
   "file_extension": ".py",
   "mimetype": "text/x-python",
   "name": "python",
   "nbconvert_exporter": "python",
   "pygments_lexer": "ipython3",
   "version": "3.9.13"
  }
 },
 "nbformat": 4,
 "nbformat_minor": 5
}
